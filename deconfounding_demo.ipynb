{
 "cells": [
  {
   "cell_type": "code",
   "execution_count": null,
   "outputs": [],
   "source": [
    "import cca_zoo\n",
    "from mvlearn.datasets import load_UCImultifeature\n",
    "import numpy as np"
   ],
   "metadata": {
    "collapsed": false,
    "pycharm": {
     "name": "#%%\n"
    }
   }
  },
  {
   "cell_type": "code",
   "execution_count": null,
   "outputs": [],
   "source": [
    "# Load entire dataset\n",
    "full_data, full_labels = load_UCImultifeature()\n",
    "\n",
    "print(\"Full Dataset\\n\")\n",
    "print(\"Views = \" + str(len(full_data)))\n",
    "print(\"First view shape = \" + str(full_data[0].shape))\n",
    "print(\"Labels shape = \" + str(full_labels.shape))\n",
    "\n",
    "train_set_1 = full_data[0][:1000]\n",
    "train_set_2 = full_data[1][:1000]\n",
    "train_confounds = full_data[2][:1000]\n",
    "test_set_1 = full_data[0][1000:]\n",
    "test_set_2 = full_data[1][1000:]\n",
    "test_confounds = full_data[2][1000:]"
   ],
   "metadata": {
    "collapsed": false,
    "pycharm": {
     "name": "#%%\n"
    }
   }
  },
  {
   "cell_type": "markdown",
   "source": [
    "Configuration"
   ],
   "metadata": {
    "collapsed": false
   }
  },
  {
   "cell_type": "code",
   "execution_count": null,
   "outputs": [],
   "source": [
    "latent_dims = 5\n",
    "epochs=50"
   ],
   "metadata": {
    "collapsed": false,
    "pycharm": {
     "name": "#%%\n"
    }
   }
  },
  {
   "cell_type": "markdown",
   "source": [
    "DCCA"
   ],
   "metadata": {
    "collapsed": false
   }
  },
  {
   "cell_type": "code",
   "execution_count": null,
   "outputs": [],
   "source": [
    "dcca = cca_zoo.deep.Wrapper(latent_dims=latent_dims, epoch_num=epochs, method='DCCA',\n",
    "                            loss_type='cca', hidden_layer_sizes_1=[128], hidden_layer_sizes_2=[128])\n",
    "\n",
    "dcca.fit(train_set_1, train_set_2)\n",
    "\n",
    "dcca_zs = dcca.transform_view(train_set_1, train_set_2, train_confounds)\n",
    "\n",
    "dcca_results = np.stack((dcca.train_correlations, dcca.predict_corr(test_set_1, test_set_2)))"
   ],
   "metadata": {
    "collapsed": false,
    "pycharm": {
     "name": "#%%\n"
    }
   }
  },
  {
   "cell_type": "markdown",
   "source": [
    "Linear deconfounding DCCA"
   ],
   "metadata": {
    "collapsed": false
   }
  },
  {
   "cell_type": "code",
   "execution_count": null,
   "outputs": [],
   "source": [
    "delcca = cca_zoo.deep.Wrapper(latent_dims=latent_dims, epoch_num=epochs, method='DeLCCA',\n",
    "                              loss_type='cca', hidden_layer_sizes_1=[128], hidden_layer_sizes_2=[128])\n",
    "\n",
    "delcca.fit(train_set_1, train_set_2, train_confounds)\n",
    "\n",
    "delcca_zs = delcca.transform_view(train_set_1, train_set_2, train_confounds)\n",
    "\n",
    "delcca_results = np.stack((delcca.train_correlations, delcca.predict_corr(test_set_1, test_set_2, test_confounds)))"
   ],
   "metadata": {
    "collapsed": false,
    "pycharm": {
     "name": "#%%\n"
    }
   }
  },
  {
   "cell_type": "markdown",
   "source": [
    "Non-linear deconfounding DCCA"
   ],
   "metadata": {
    "collapsed": false,
    "pycharm": {
     "name": "#%% md\n"
    }
   }
  },
  {
   "cell_type": "code",
   "execution_count": null,
   "outputs": [],
   "source": [
    "decca = cca_zoo.deep.Wrapper(latent_dims=latent_dims, epoch_num=epochs, method='DeCCA',\n",
    "                             loss_type='cca', hidden_layer_sizes_1=[128], hidden_layer_sizes_2=[128])\n",
    "\n",
    "decca.fit(train_set_1, train_set_2, train_confounds)\n",
    "\n",
    "decca_zs = decca.transform_view(train_set_1, train_set_2, train_confounds)\n",
    "\n",
    "decca_results = np.stack((decca.train_correlations, decca.predict_corr(test_set_1, test_set_2, test_confounds)))\n",
    "\n"
   ],
   "metadata": {
    "collapsed": false,
    "pycharm": {
     "name": "#%%\n"
    }
   }
  }
 ],
 "metadata": {
  "kernelspec": {
   "display_name": "Python 3",
   "language": "python",
   "name": "python3"
  },
  "language_info": {
   "codemirror_mode": {
    "name": "ipython",
    "version": 2
   },
   "file_extension": ".py",
   "mimetype": "text/x-python",
   "name": "python",
   "nbconvert_exporter": "python",
   "pygments_lexer": "ipython2",
   "version": "2.7.6"
  }
 },
 "nbformat": 4,
 "nbformat_minor": 0
}