{
 "cells": [
  {
   "cell_type": "markdown",
   "source": [
    "# CCA_methods: Examples\n",
    "In this notebook I demonstrate the general pipeline I use in the CCA_methods package."
   ],
   "metadata": {
    "collapsed": false,
    "pycharm": {
     "name": "#%% md\n"
    }
   }
  },
  {
   "cell_type": "markdown",
   "source": [
    "### Imports"
   ],
   "metadata": {
    "collapsed": false,
    "pycharm": {
     "name": "#%% md\n"
    }
   }
  },
  {
   "cell_type": "code",
   "execution_count": 15,
   "metadata": {
    "collapsed": true
   },
   "outputs": [],
   "source": [
    "import numpy as np\n",
    "import CCA_methods\n",
    "import itertools\n",
    "import os\n",
    "import matplotlib.pyplot as plt"
   ]
  },
  {
   "cell_type": "markdown",
   "source": [
    "### Load MNIST Data\n"
   ],
   "metadata": {
    "collapsed": false
   }
  },
  {
   "cell_type": "code",
   "execution_count": 2,
   "outputs": [
    {
     "name": "stdout",
     "output_type": "stream",
     "text": [
      "loading data ...\n",
      "loading data ...\n",
      "(1000, 784)\n",
      "(1000, 784)\n"
     ]
    }
   ],
   "source": [
    "os.chdir('..')\n",
    "train_set_1, val_set_1, test_set_1 = CCA_methods.mnist_utils.load_data('Data/noisymnist_view1.gz')\n",
    "train_set_2, val_set_2, test_set_2 = CCA_methods.mnist_utils.load_data('Data/noisymnist_view2.gz')\n",
    "\n",
    "train_set_1 = train_set_1[0][:1000]\n",
    "train_set_2 = train_set_2[0][:1000]\n",
    "val_set_1 = val_set_1[0][:1000]\n",
    "val_set_2 = val_set_2[0][:1000]\n",
    "test_set_1 = test_set_1[0][:1000]\n",
    "test_set_2 = test_set_2[0][:1000]\n",
    "\n",
    "print(train_set_1.shape)\n",
    "print(train_set_2.shape)"
   ],
   "metadata": {
    "collapsed": false,
    "pycharm": {
     "name": "#%%\n"
    }
   }
  },
  {
   "cell_type": "markdown",
   "source": [
    "### Settings"
   ],
   "metadata": {
    "collapsed": false
   }
  },
  {
   "cell_type": "code",
   "execution_count": 3,
   "outputs": [],
   "source": [
    "#The number of latent dimensions across models\n",
    "outdim_size = 1\n",
    "#The number of folds used for cross-validation/hyperparameter tuning\n",
    "cv_folds = 5\n",
    "#The number of iterations used for alternating least squares/iterative methods\n",
    "max_als_iter = 5\n",
    "#The number of epochs used for deep learning based models\n",
    "epoch_num = 50"
   ],
   "metadata": {
    "collapsed": false,
    "pycharm": {
     "name": "#%%\n"
    }
   }
  },
  {
   "cell_type": "markdown",
   "source": [
    "### Linear CCA\n",
    "We can do this via a few different methods\n",
    "- alternating least squares\n",
    "- generalized cca (equivalent to SVD/Eigendecomposition)\n",
    "- multiset cca (equivalent to SVD/Eigendecomposition)\n",
    "- scikit learn (NIPALS)\n",
    "\n",
    "(Note that although the MNIST data here is not full rank,\n",
    "both alternating least squares and NIPALS find least squares solutions\n",
    "and therefore this problem is avoided)"
   ],
   "metadata": {
    "collapsed": false
   }
  },
  {
   "cell_type": "code",
   "execution_count": 13,
   "outputs": [],
   "source": [
    "linear_cca = CCA_methods.linear.Wrapper(outdim_size=outdim_size)\n",
    "\n",
    "linear_cca.fit(train_set_1, train_set_2)\n",
    "\n",
    "linear_cca_results = np.stack((linear_cca.train_correlations[0,1], linear_cca.predict_corr(test_set_1, test_set_2)[0,1]))\n",
    "\n",
    "\n",
    "scikit_cca = CCA_methods.linear.Wrapper(outdim_size=outdim_size, method='scikit')\n",
    "\n",
    "scikit_cca.fit(train_set_1, train_set_2)\n",
    "\n",
    "scikit_cca_results = np.stack((scikit_cca.train_correlations[0,1], scikit_cca.predict_corr(test_set_1, test_set_2)[0,1]))\n",
    "\n",
    "\n",
    "gcca = CCA_methods.linear.Wrapper(outdim_size=outdim_size, method='gcca')\n",
    "\n",
    "#small ammount of regularisation added since data is not full rank\n",
    "params={'c':[1,1]}\n",
    "\n",
    "gcca.fit(train_set_1, train_set_2, params=params)\n",
    "\n",
    "gcca_results = np.stack((scikit_cca.train_correlations[0,1], scikit_cca.predict_corr(test_set_1, test_set_2)[0,1]))\n"
   ],
   "metadata": {
    "collapsed": false,
    "pycharm": {
     "name": "#%%\n"
    }
   }
  },
  {
   "cell_type": "markdown",
   "source": [
    "### Regularized CCA with hyperparameter tuning\n",
    "- penalized matrix decomposition ('pmd')\n",
    "- sparse cca/alternating lasso regression ('scca')\n",
    "- ridge cca/alternating ridge regression ('l2')\n",
    "- parkhomenko sparse cca ('parkhomenko')\n",
    "- elastic ('elastic')\n",
    "\n",
    "parameter candidates for cross validation are given as a list of lists as shown in the examples"
   ],
   "metadata": {
    "collapsed": false
   }
  },
  {
   "cell_type": "code",
   "execution_count": 7,
   "outputs": [
    {
     "name": "stdout",
     "output_type": "stream",
     "text": [
      "cross validation with  pmd\n",
      "number of folds:  5\n",
      "{'c': (1, 1)}\n",
      "0.6386345136967805\n",
      "{'c': (1, 3)}\n",
      "0.6386345136967805\n",
      "{'c': (1, 7)}\n",
      "0.6386345136967805\n",
      "{'c': (1, 9)}\n",
      "0.6386345136967805\n",
      "{'c': (3, 1)}\n",
      "0.6353841463328237\n",
      "{'c': (3, 3)}\n",
      "0.6353841463328237\n",
      "{'c': (3, 7)}\n",
      "0.6353841463328237\n",
      "{'c': (3, 9)}\n",
      "0.6352769269680133\n",
      "{'c': (7, 1)}\n",
      "0.6332411830464156\n",
      "{'c': (7, 3)}\n",
      "0.6332411830464156\n",
      "{'c': (7, 7)}\n",
      "0.6332411830464156\n",
      "{'c': (7, 9)}\n",
      "0.6332411830464156\n",
      "{'c': (9, 1)}\n",
      "0.6336151578639766\n",
      "{'c': (9, 3)}\n",
      "0.6336151578639766\n",
      "{'c': (9, 7)}\n",
      "0.6336151578639766\n",
      "{'c': (9, 9)}\n",
      "0.6336151578639766\n",
      "Best score :  0.6386345136967805\n",
      "{'c': (1, 1)}\n",
      "cross validation with  elastic\n",
      "number of folds:  5\n",
      "{'c': (0.01, 0.01), 'ratio': (0.01, 0.01)}\n",
      "0.06999213104306767\n",
      "{'c': (0.01, 0.01), 'ratio': (0.01, 0.01)}\n",
      "0.13485930890695902\n",
      "{'c': (0.01, 0.01), 'ratio': (0.01, 0.1)}\n",
      "0.009790397843851285\n",
      "{'c': (0.01, 0.01), 'ratio': (0.01, 0.01)}\n",
      "0.05448896601751946\n",
      "{'c': (0.01, 0.01), 'ratio': (0.01, 0.01)}\n",
      "0.04925159357960475\n",
      "{'c': (0.01, 0.01), 'ratio': (0.01, 0.1)}\n",
      "-0.01978702374445298\n",
      "{'c': (0.01, 0.01), 'ratio': (0.1, 0.01)}\n",
      "0.1374676587136447\n",
      "{'c': (0.01, 0.01), 'ratio': (0.1, 0.01)}\n",
      "0.18774920386796273\n",
      "{'c': (0.01, 0.01), 'ratio': (0.1, 0.1)}\n",
      "0.17668488456139514\n",
      "{'c': (0.01, 0.1), 'ratio': (0.01, 0.01)}\n",
      "0.0570130520750257\n",
      "{'c': (0.01, 0.1), 'ratio': (0.01, 0.01)}\n",
      "0.07482265098695527\n",
      "{'c': (0.01, 0.1), 'ratio': (0.01, 0.1)}\n",
      "-0.01103455824034156\n",
      "{'c': (0.01, 0.1), 'ratio': (0.01, 0.01)}\n",
      "0.08685727244742789\n",
      "{'c': (0.01, 0.1), 'ratio': (0.01, 0.01)}\n",
      "0.0961018776337007\n",
      "{'c': (0.01, 0.1), 'ratio': (0.01, 0.1)}\n",
      "-0.01795186065331895\n",
      "{'c': (0.01, 0.1), 'ratio': (0.1, 0.01)}\n",
      "0.328810683378877\n",
      "{'c': (0.01, 0.1), 'ratio': (0.1, 0.01)}\n",
      "0.31743220665095756\n",
      "{'c': (0.01, 0.1), 'ratio': (0.1, 0.1)}\n",
      "-0.02928248047462232\n",
      "{'c': (0.01, 1), 'ratio': (0.01, 0.01)}\n",
      "-0.01880231890309016\n",
      "{'c': (0.01, 1), 'ratio': (0.01, 0.01)}\n",
      "-0.017876983470995776\n",
      "{'c': (0.01, 1), 'ratio': (0.01, 0.1)}\n",
      "0.39301836098225573\n",
      "{'c': (0.01, 1), 'ratio': (0.01, 0.01)}\n",
      "-0.013451371995346125\n",
      "{'c': (0.01, 1), 'ratio': (0.01, 0.01)}\n",
      "-0.025903904619847658\n",
      "{'c': (0.01, 1), 'ratio': (0.01, 0.1)}\n",
      "0.39711762041246884\n",
      "{'c': (0.01, 1), 'ratio': (0.1, 0.01)}\n",
      "0.06659672299249028\n",
      "{'c': (0.01, 1), 'ratio': (0.1, 0.01)}\n",
      "-0.011579020309076819\n",
      "{'c': (0.01, 1), 'ratio': (0.1, 0.1)}\n",
      "0.36877781021443823\n",
      "{'c': (0.1, 0.01), 'ratio': (0.01, 0.01)}\n",
      "0.20366725656937032\n",
      "{'c': (0.1, 0.01), 'ratio': (0.01, 0.01)}\n",
      "0.22966374775690923\n",
      "{'c': (0.1, 0.01), 'ratio': (0.01, 0.1)}\n",
      "0.23167606135082636\n",
      "{'c': (0.1, 0.01), 'ratio': (0.01, 0.01)}\n",
      "0.2142039815517931\n",
      "{'c': (0.1, 0.01), 'ratio': (0.01, 0.01)}\n",
      "0.291607282273095\n",
      "{'c': (0.1, 0.01), 'ratio': (0.01, 0.1)}\n",
      "0.22584403857949087\n",
      "{'c': (0.1, 0.01), 'ratio': (0.1, 0.01)}\n",
      "0.12542972128415078\n",
      "{'c': (0.1, 0.01), 'ratio': (0.1, 0.01)}\n",
      "0.2073667078229085\n",
      "{'c': (0.1, 0.01), 'ratio': (0.1, 0.1)}\n",
      "0.11061185321273533\n",
      "{'c': (0.1, 0.1), 'ratio': (0.01, 0.01)}\n",
      "0.40001338188628316\n",
      "{'c': (0.1, 0.1), 'ratio': (0.01, 0.01)}\n",
      "0.4100055989160338\n",
      "{'c': (0.1, 0.1), 'ratio': (0.01, 0.1)}\n",
      "-0.02321890276588864\n",
      "{'c': (0.1, 0.1), 'ratio': (0.01, 0.01)}\n",
      "0.34684326472060684\n",
      "{'c': (0.1, 0.1), 'ratio': (0.01, 0.01)}\n",
      "0.4080027844823232\n",
      "{'c': (0.1, 0.1), 'ratio': (0.01, 0.1)}\n",
      "-0.01994692298036415\n",
      "{'c': (0.1, 0.1), 'ratio': (0.1, 0.01)}\n",
      "0.26042033286238514\n",
      "{'c': (0.1, 0.1), 'ratio': (0.1, 0.01)}\n",
      "0.25849220414088725\n",
      "{'c': (0.1, 0.1), 'ratio': (0.1, 0.1)}\n",
      "0.021190893311056665\n",
      "{'c': (0.1, 1), 'ratio': (0.01, 0.01)}\n",
      "-0.014999554063053127\n",
      "{'c': (0.1, 1), 'ratio': (0.01, 0.01)}\n",
      "-0.06765013244500359\n",
      "{'c': (0.1, 1), 'ratio': (0.01, 0.1)}\n",
      "0.3868559089338073\n",
      "{'c': (0.1, 1), 'ratio': (0.01, 0.01)}\n",
      "-0.0033773471375345616\n",
      "{'c': (0.1, 1), 'ratio': (0.01, 0.01)}\n",
      "0.005030610549647969\n",
      "{'c': (0.1, 1), 'ratio': (0.01, 0.1)}\n",
      "0.3996151823524168\n",
      "{'c': (0.1, 1), 'ratio': (0.1, 0.01)}\n",
      "-0.004000330503666308\n",
      "{'c': (0.1, 1), 'ratio': (0.1, 0.01)}\n",
      "0.06625801109659646\n",
      "{'c': (0.1, 1), 'ratio': (0.1, 0.1)}\n",
      "0.13546705008879573\n",
      "{'c': (1, 0.01), 'ratio': (0.01, 0.01)}\n",
      "0.18811831330260226\n",
      "{'c': (1, 0.01), 'ratio': (0.01, 0.01)}\n",
      "0.17483286289317834\n",
      "{'c': (1, 0.01), 'ratio': (0.01, 0.1)}\n",
      "0.17939953656189697\n",
      "{'c': (1, 0.01), 'ratio': (0.01, 0.01)}\n",
      "0.14782481942650222\n",
      "{'c': (1, 0.01), 'ratio': (0.01, 0.01)}\n",
      "0.0948578754296566\n",
      "{'c': (1, 0.01), 'ratio': (0.01, 0.1)}\n",
      "0.14486552571241604\n",
      "{'c': (1, 0.01), 'ratio': (0.1, 0.01)}\n",
      "0.32787279688083865\n",
      "{'c': (1, 0.01), 'ratio': (0.1, 0.01)}\n",
      "0.32787279688083865\n",
      "{'c': (1, 0.01), 'ratio': (0.1, 0.1)}\n",
      "0.415528855781211\n",
      "{'c': (1, 0.1), 'ratio': (0.01, 0.01)}\n",
      "0.35007340992279967\n",
      "{'c': (1, 0.1), 'ratio': (0.01, 0.01)}\n",
      "0.37918928831654464\n",
      "{'c': (1, 0.1), 'ratio': (0.01, 0.1)}\n",
      "-0.037957846079577966\n",
      "{'c': (1, 0.1), 'ratio': (0.01, 0.01)}\n",
      "0.29656836153170696\n",
      "{'c': (1, 0.1), 'ratio': (0.01, 0.01)}\n",
      "0.1511149254912773\n",
      "{'c': (1, 0.1), 'ratio': (0.01, 0.1)}\n",
      "-0.009939567763899555\n",
      "{'c': (1, 0.1), 'ratio': (0.1, 0.01)}\n",
      "0.4564628067524751\n",
      "{'c': (1, 0.1), 'ratio': (0.1, 0.01)}\n",
      "0.4564628067524751\n",
      "{'c': (1, 0.1), 'ratio': (0.1, 0.1)}\n",
      "-0.02123555708749034\n",
      "{'c': (1, 1), 'ratio': (0.01, 0.01)}\n",
      "0.0328961198646232\n",
      "{'c': (1, 1), 'ratio': (0.01, 0.01)}\n",
      "-0.05425038262755153\n",
      "{'c': (1, 1), 'ratio': (0.01, 0.1)}\n",
      "0.0640852248358063\n",
      "{'c': (1, 1), 'ratio': (0.01, 0.01)}\n",
      "0.035996827637029535\n",
      "{'c': (1, 1), 'ratio': (0.01, 0.01)}\n",
      "0.06396680417466312\n",
      "{'c': (1, 1), 'ratio': (0.01, 0.1)}\n",
      "0.14117437285978954\n",
      "{'c': (1, 1), 'ratio': (0.1, 0.01)}\n",
      "-0.021235557087490354\n",
      "{'c': (1, 1), 'ratio': (0.1, 0.01)}\n",
      "-0.021235557087490354\n",
      "{'c': (1, 1), 'ratio': (0.1, 0.1)}\n",
      "0.36572558826544854\n",
      "Best score :  0.4564628067524751\n",
      "{'c': (1, 0.1), 'ratio': (0.1, 0.01)}\n"
     ]
    }
   ],
   "source": [
    "# PMD\n",
    "c1 = [1, 3, 7, 9]\n",
    "c2 = [1, 3, 7, 9]\n",
    "param_candidates = {'c': list(itertools.product(c1, c2))}\n",
    "\n",
    "pmd = CCA_methods.linear.Wrapper(outdim_size=outdim_size, method='pmd',\n",
    "                                 max_iter=max_als_iter).cv_fit(train_set_1, train_set_2,\n",
    "                                                                     param_candidates=param_candidates,\n",
    "                                                                     folds=cv_folds,verbose=True)\n",
    "\n",
    "pmd_results = np.stack((pmd.train_correlations[0, 1, :], pmd.predict_corr(test_set_1, test_set_2)[0, 1, :]))\n",
    "\n",
    "# Elastic\n",
    "c1 = [0.01, 0.1, 1]\n",
    "c2 = [0.01, 0.1, 1]\n",
    "l1_1 = [0.01, 0.01, 0.1]\n",
    "l1_2 = [0.01, 0.01, 0.1]\n",
    "param_candidates = {'c': list(itertools.product(c1, c2)), 'ratio': list(itertools.product(l1_1, l1_2))}\n",
    "\n",
    "elastic = CCA_methods.linear.Wrapper(outdim_size=outdim_size, method='elastic',\n",
    "                                    max_iter=max_als_iter).cv_fit(train_set_1, train_set_2,\n",
    "                                                                     param_candidates=param_candidates,\n",
    "                                                                     folds=cv_folds,verbose=True)\n",
    "\n",
    "elastic_results = np.stack((elastic.train_correlations[0, 1, :], elastic.predict_corr(test_set_1, test_set_2)[0, 1, :]))"
   ],
   "metadata": {
    "collapsed": false,
    "pycharm": {
     "name": "#%%\n"
    }
   }
  },
  {
   "cell_type": "markdown",
   "source": [
    "### Kernel CCA\n",
    "\n",
    "Similarly, we can use kernel CCA methods:\n",
    "- regularized kernel CCA ('linear')\n",
    "- sparse cca/alternating lasso regression ('poly')\n",
    "- ridge cca/alternating ridge regression ('gaussian')\n"
   ],
   "metadata": {
    "collapsed": false
   }
  },
  {
   "cell_type": "code",
   "execution_count": 9,
   "outputs": [
    {
     "name": "stdout",
     "output_type": "stream",
     "text": [
      "cross validation with  kernel\n",
      "number of folds:  5\n",
      "{'kernel': 'linear', 'reg': 10000.0}\n",
      "0.6532040204570014\n",
      "{'kernel': 'linear', 'reg': 100000.0}\n",
      "0.6765012094098057\n",
      "{'kernel': 'linear', 'reg': 1000000.0}\n",
      "0.6471253020144976\n",
      "Best score :  0.6765012094098057\n",
      "{'kernel': 'linear', 'reg': 100000.0}\n",
      "cross validation with  kernel\n",
      "number of folds:  5\n",
      "{'kernel': 'poly', 'degree': 2, 'reg': 1000000.0}\n",
      "0.6048838628740791\n",
      "{'kernel': 'poly', 'degree': 2, 'reg': 10000000.0}\n",
      "0.6048831125616787\n",
      "{'kernel': 'poly', 'degree': 2, 'reg': 100000000.0}\n",
      "0.6048830375279454\n",
      "{'kernel': 'poly', 'degree': 3, 'reg': 1000000.0}\n",
      "0.6063111158678961\n",
      "{'kernel': 'poly', 'degree': 3, 'reg': 10000000.0}\n",
      "0.6063094198182477\n",
      "{'kernel': 'poly', 'degree': 3, 'reg': 100000000.0}\n",
      "0.6063092502004535\n",
      "{'kernel': 'poly', 'degree': 4, 'reg': 1000000.0}\n",
      "0.6077528598342603\n",
      "{'kernel': 'poly', 'degree': 4, 'reg': 10000000.0}\n",
      "0.6077498302560856\n",
      "{'kernel': 'poly', 'degree': 4, 'reg': 100000000.0}\n",
      "0.6077495272570215\n",
      "Best score :  0.6077528598342603\n",
      "{'kernel': 'poly', 'degree': 4, 'reg': 1000000.0}\n",
      "cross validation with  kernel\n",
      "number of folds:  5\n",
      "{'kernel': 'gaussian', 'sigma': 100.0, 'reg': 1000000.0}\n",
      "0.6014315119475133\n",
      "{'kernel': 'gaussian', 'sigma': 100.0, 'reg': 10000000.0}\n",
      "0.6014255197474949\n",
      "{'kernel': 'gaussian', 'sigma': 100.0, 'reg': 100000000.0}\n",
      "0.6014249204196693\n",
      "{'kernel': 'gaussian', 'sigma': 1000.0, 'reg': 1000000.0}\n",
      "0.6065611579091728\n",
      "{'kernel': 'gaussian', 'sigma': 1000.0, 'reg': 10000000.0}\n",
      "0.6065610501036491\n",
      "{'kernel': 'gaussian', 'sigma': 1000.0, 'reg': 100000000.0}\n",
      "0.6065610393230478\n",
      "Best score :  0.6065611579091728\n",
      "{'kernel': 'gaussian', 'sigma': 1000.0, 'reg': 1000000.0}\n"
     ]
    }
   ],
   "source": [
    "# r-kernel cca\n",
    "param_candidates = {'kernel': ['linear'], 'reg': [1e+4, 1e+5, 1e+6]}\n",
    "kernel_reg = CCA_methods.linear.Wrapper(outdim_size=outdim_size, method='kernel',\n",
    "                                        max_iter=max_als_iter).cv_fit(train_set_1,train_set_2,\n",
    "                                                                      folds=cv_folds,\n",
    "                                                                      param_candidates=param_candidates,\n",
    "                                                                      verbose=True)\n",
    "kernel_reg_results = np.stack((\n",
    "    kernel_reg.train_correlations[0, 1, :],\n",
    "    kernel_reg.predict_corr(test_set_1, test_set_2)[0, 1, :]))\n",
    "\n",
    "# kernel cca (poly)\n",
    "param_candidates = {'kernel': ['poly'], 'degree': [2, 3, 4], 'reg': [1e+6, 1e+7, 1e+8]}\n",
    "\n",
    "kernel_poly = CCA_methods.linear.Wrapper(outdim_size=outdim_size, method='kernel',\n",
    "                                         max_iter=max_als_iter).cv_fit(train_set_1, train_set_2,\n",
    "                                                                     folds=cv_folds,\n",
    "                                                                     param_candidates=param_candidates,\n",
    "                                                                     verbose=True)\n",
    "\n",
    "kernel_poly_results = np.stack((\n",
    "    kernel_poly.train_correlations[0, 1, :],\n",
    "    kernel_poly.predict_corr(test_set_1, test_set_2)[0, 1, :]))\n",
    "\n",
    "# kernel cca (gaussian)\n",
    "param_candidates = {'kernel': ['gaussian'], 'sigma': [1e+2, 1e+3], 'reg': [1e+6, 1e+7, 1e+8]}\n",
    "\n",
    "kernel_gaussian = CCA_methods.linear.Wrapper(outdim_size=outdim_size, method='kernel',\n",
    "                                             max_iter=max_als_iter).cv_fit(train_set_1, train_set_2,\n",
    "                                                                     folds=cv_folds,\n",
    "                                                                     param_candidates=param_candidates,\n",
    "                                                                     verbose=True)\n",
    "\n",
    "kernel_gaussian_results = np.stack((\n",
    "        kernel_gaussian.train_correlations[0, 1, :],\n",
    "        kernel_gaussian.predict_corr(test_set_1, test_set_2)[0, 1, :]))"
   ],
   "metadata": {
    "collapsed": false,
    "pycharm": {
     "name": "#%%\n"
    }
   }
  },
  {
   "cell_type": "markdown",
   "source": [
    "### Deep Learning\n",
    "\n",
    "We also have deep CCA methods (and autoencoder variants)\n",
    "- Deep CCA (DCCA)\n",
    "- Deep Canonically Correlated Autoencoders (DCCAE)\n",
    "- Deep Generalized CCA (DGCCA)\n",
    "\n",
    "Both of the CCA loss and the GCCA loss can be used for DCCA/DCCAE since they are equivalent for two views.\n",
    "\n",
    "To implement DCCA use DCCAE class with lam=0 (default). This multiplies the reconstruction loss term by 0."
   ],
   "metadata": {
    "collapsed": false
   }
  },
  {
   "cell_type": "code",
   "execution_count": 4,
   "outputs": [
    {
     "name": "stdout",
     "output_type": "stream",
     "text": [
      "Number of model parameters 406050\n",
      "====> Epoch: 0 Average train loss: -0.2428\n",
      "====> Epoch: 0 Average val loss: -0.2366\n",
      "Min loss -3.08\n",
      "====> Epoch: 1 Average train loss: -0.7939\n",
      "====> Epoch: 1 Average val loss: -0.2378\n",
      "Min loss -3.09\n",
      "====> Epoch: 2 Average train loss: -0.9289\n",
      "====> Epoch: 2 Average val loss: -0.2001\n",
      "====> Epoch: 3 Average train loss: -0.9653\n",
      "====> Epoch: 3 Average val loss: -0.2340\n",
      "====> Epoch: 4 Average train loss: -0.9685\n",
      "====> Epoch: 4 Average val loss: -0.2705\n",
      "Min loss -3.52\n",
      "====> Epoch: 5 Average train loss: -0.9570\n",
      "====> Epoch: 5 Average val loss: -0.2553\n",
      "====> Epoch: 6 Average train loss: -0.9340\n",
      "====> Epoch: 6 Average val loss: -0.2722\n",
      "Min loss -3.54\n",
      "====> Epoch: 7 Average train loss: -0.9089\n",
      "====> Epoch: 7 Average val loss: -0.1893\n",
      "====> Epoch: 8 Average train loss: -0.9088\n",
      "====> Epoch: 8 Average val loss: -0.3018\n",
      "Min loss -3.92\n",
      "====> Epoch: 9 Average train loss: -0.9369\n",
      "====> Epoch: 9 Average val loss: -0.2553\n",
      "====> Epoch: 10 Average train loss: -0.9645\n",
      "====> Epoch: 10 Average val loss: -0.2583\n",
      "====> Epoch: 11 Average train loss: -0.9789\n",
      "====> Epoch: 11 Average val loss: -0.2452\n",
      "====> Epoch: 12 Average train loss: -0.9894\n",
      "====> Epoch: 12 Average val loss: -0.2410\n",
      "====> Epoch: 13 Average train loss: -0.9926\n",
      "====> Epoch: 13 Average val loss: -0.2497\n",
      "====> Epoch: 14 Average train loss: -0.9948\n",
      "====> Epoch: 14 Average val loss: -0.2596\n",
      "====> Epoch: 15 Average train loss: -0.9959\n",
      "====> Epoch: 15 Average val loss: -0.2463\n",
      "====> Epoch: 16 Average train loss: -0.9963\n",
      "====> Epoch: 16 Average val loss: -0.2464\n",
      "====> Epoch: 17 Average train loss: -0.9962\n",
      "====> Epoch: 17 Average val loss: -0.2562\n",
      "====> Epoch: 18 Average train loss: -0.9961\n",
      "====> Epoch: 18 Average val loss: -0.2549\n",
      "Early stopping!\n",
      "Number of model parameters 406050\n",
      "====> Epoch: 0 Average train loss: -0.2410\n",
      "====> Epoch: 0 Average val loss: -0.2862\n",
      "Min loss -3.72\n",
      "====> Epoch: 1 Average train loss: -0.7958\n",
      "====> Epoch: 1 Average val loss: -0.2386\n",
      "====> Epoch: 2 Average train loss: -0.9255\n",
      "====> Epoch: 2 Average val loss: -0.2609\n",
      "====> Epoch: 3 Average train loss: -0.9675\n",
      "====> Epoch: 3 Average val loss: -0.3184\n",
      "Min loss -4.14\n",
      "====> Epoch: 4 Average train loss: -0.9727\n",
      "====> Epoch: 4 Average val loss: -0.3089\n",
      "====> Epoch: 5 Average train loss: -0.9555\n",
      "====> Epoch: 5 Average val loss: -0.2400\n",
      "====> Epoch: 6 Average train loss: -0.9393\n",
      "====> Epoch: 6 Average val loss: -0.2012\n",
      "====> Epoch: 7 Average train loss: -0.8904\n",
      "====> Epoch: 7 Average val loss: -0.2834\n",
      "====> Epoch: 8 Average train loss: -0.9372\n",
      "====> Epoch: 8 Average val loss: -0.2802\n",
      "====> Epoch: 9 Average train loss: -0.9535\n",
      "====> Epoch: 9 Average val loss: -0.3014\n",
      "====> Epoch: 10 Average train loss: -0.9774\n",
      "====> Epoch: 10 Average val loss: -0.2548\n",
      "====> Epoch: 11 Average train loss: -0.9872\n",
      "====> Epoch: 11 Average val loss: -0.2444\n",
      "====> Epoch: 12 Average train loss: -0.9913\n",
      "====> Epoch: 12 Average val loss: -0.2802\n",
      "====> Epoch: 13 Average train loss: -0.9942\n",
      "====> Epoch: 13 Average val loss: -0.3053\n",
      "Early stopping!\n"
     ]
    }
   ],
   "source": [
    "dcca = CCA_methods.deep.Wrapper(outdim_size=outdim_size, epoch_num=epoch_num, method='DCCAE',\n",
    "                                         loss_type='cca')\n",
    "\n",
    "dcca.fit(train_set_1, train_set_2)\n",
    "\n",
    "dcca_results = np.stack((dcca.train_correlations, dcca.predict_corr(test_set_1, test_set_2)))\n",
    "\n",
    "\n",
    "dgcca = CCA_methods.deep.Wrapper(outdim_size=outdim_size, epoch_num=epoch_num, method='DCCAE',\n",
    "                                         loss_type='gcca')\n",
    "\n",
    "dgcca.fit(train_set_1, train_set_2)\n",
    "\n",
    "dgcca_results = np.stack((dcca.train_correlations, dcca.predict_corr(test_set_1, test_set_2)))"
   ],
   "metadata": {
    "collapsed": false,
    "pycharm": {
     "name": "#%%\n"
    }
   }
  },
  {
   "cell_type": "markdown",
   "source": [
    "### Deep Variational Learning\n",
    "Finally we have Deep Variational CCA methods.\n",
    "- Deep Variational CCA (DVCCA)\n",
    "- Deep Variational CCA - private (DVVCA_p)\n",
    "\n",
    "These are both implemented by the DVCCA class with private=True/False and both_encoders=True/False. If both_encoders,\n",
    "the encoder to the shared information Q(z_shared|x) is modelled for both x_1 and x_2 whereas if both_encoders is false\n",
    "it is modelled for x_1 as in the paper"
   ],
   "metadata": {
    "collapsed": false,
    "pycharm": {
     "name": "#%% md\n"
    }
   }
  },
  {
   "cell_type": "code",
   "execution_count": 18,
   "outputs": [
    {
     "ename": "TypeError",
     "evalue": "can only concatenate list (not \"NoneType\") to list",
     "output_type": "error",
     "traceback": [
      "\u001B[0;31m---------------------------------------------------------------------------\u001B[0m",
      "\u001B[0;31mTypeError\u001B[0m                                 Traceback (most recent call last)",
      "\u001B[0;32m<ipython-input-18-b41500661b81>\u001B[0m in \u001B[0;36m<module>\u001B[0;34m\u001B[0m\n\u001B[1;32m      1\u001B[0m \u001B[0mdvcca\u001B[0m \u001B[0;34m=\u001B[0m \u001B[0mCCA_methods\u001B[0m\u001B[0;34m.\u001B[0m\u001B[0mdeep\u001B[0m\u001B[0;34m.\u001B[0m\u001B[0mWrapper\u001B[0m\u001B[0;34m(\u001B[0m\u001B[0moutdim_size\u001B[0m\u001B[0;34m=\u001B[0m\u001B[0moutdim_size\u001B[0m\u001B[0;34m,\u001B[0m \u001B[0mepoch_num\u001B[0m\u001B[0;34m=\u001B[0m\u001B[0mepoch_num\u001B[0m\u001B[0;34m,\u001B[0m \u001B[0mmethod\u001B[0m\u001B[0;34m=\u001B[0m\u001B[0;34m'DVCCA'\u001B[0m\u001B[0;34m,\u001B[0m\u001B[0mprivate\u001B[0m\u001B[0;34m=\u001B[0m\u001B[0;32mFalse\u001B[0m\u001B[0;34m)\u001B[0m\u001B[0;34m\u001B[0m\u001B[0;34m\u001B[0m\u001B[0m\n\u001B[1;32m      2\u001B[0m \u001B[0;34m\u001B[0m\u001B[0m\n\u001B[0;32m----> 3\u001B[0;31m \u001B[0mdvcca\u001B[0m\u001B[0;34m.\u001B[0m\u001B[0mfit\u001B[0m\u001B[0;34m(\u001B[0m\u001B[0mtrain_set_1\u001B[0m\u001B[0;34m,\u001B[0m \u001B[0mtrain_set_2\u001B[0m\u001B[0;34m)\u001B[0m\u001B[0;34m\u001B[0m\u001B[0;34m\u001B[0m\u001B[0m\n\u001B[0m\u001B[1;32m      4\u001B[0m \u001B[0;34m\u001B[0m\u001B[0m\n\u001B[1;32m      5\u001B[0m \u001B[0mdvcca_results\u001B[0m \u001B[0;34m=\u001B[0m \u001B[0mnp\u001B[0m\u001B[0;34m.\u001B[0m\u001B[0mstack\u001B[0m\u001B[0;34m(\u001B[0m\u001B[0;34m(\u001B[0m\u001B[0mdvcca\u001B[0m\u001B[0;34m.\u001B[0m\u001B[0mtrain_correlations\u001B[0m\u001B[0;34m,\u001B[0m \u001B[0mdvcca\u001B[0m\u001B[0;34m.\u001B[0m\u001B[0mpredict_corr\u001B[0m\u001B[0;34m(\u001B[0m\u001B[0mtest_set_1\u001B[0m\u001B[0;34m,\u001B[0m \u001B[0mtest_set_2\u001B[0m\u001B[0;34m)\u001B[0m\u001B[0;34m)\u001B[0m\u001B[0;34m)\u001B[0m\u001B[0;34m\u001B[0m\u001B[0;34m\u001B[0m\u001B[0m\n",
      "\u001B[0;32m~/PycharmProjects/MultiView/CCA_methods/deep.py\u001B[0m in \u001B[0;36mfit\u001B[0;34m(self, X_train, Y_train)\u001B[0m\n\u001B[1;32m    101\u001B[0m             self.model = DVCCA(input_size_1=X_train.shape[-1], input_size_2=Y_train.shape[-1],\n\u001B[1;32m    102\u001B[0m                                \u001B[0mboth_encoders\u001B[0m\u001B[0;34m=\u001B[0m\u001B[0mself\u001B[0m\u001B[0;34m.\u001B[0m\u001B[0mboth_encoders\u001B[0m\u001B[0;34m,\u001B[0m \u001B[0moutdim_size\u001B[0m\u001B[0;34m=\u001B[0m\u001B[0mself\u001B[0m\u001B[0;34m.\u001B[0m\u001B[0moutdim_size\u001B[0m\u001B[0;34m,\u001B[0m\u001B[0;34m\u001B[0m\u001B[0;34m\u001B[0m\u001B[0m\n\u001B[0;32m--> 103\u001B[0;31m                                private=self.private).double().to(self.device)\n\u001B[0m\u001B[1;32m    104\u001B[0m         \u001B[0mmodel_params\u001B[0m \u001B[0;34m=\u001B[0m \u001B[0msum\u001B[0m\u001B[0;34m(\u001B[0m\u001B[0mp\u001B[0m\u001B[0;34m.\u001B[0m\u001B[0mnumel\u001B[0m\u001B[0;34m(\u001B[0m\u001B[0;34m)\u001B[0m \u001B[0;32mfor\u001B[0m \u001B[0mp\u001B[0m \u001B[0;32min\u001B[0m \u001B[0mself\u001B[0m\u001B[0;34m.\u001B[0m\u001B[0mmodel\u001B[0m\u001B[0;34m.\u001B[0m\u001B[0mparameters\u001B[0m\u001B[0;34m(\u001B[0m\u001B[0;34m)\u001B[0m\u001B[0;34m)\u001B[0m\u001B[0;34m\u001B[0m\u001B[0;34m\u001B[0m\u001B[0m\n\u001B[1;32m    105\u001B[0m         \u001B[0mbest_model\u001B[0m \u001B[0;34m=\u001B[0m \u001B[0mcopy\u001B[0m\u001B[0;34m.\u001B[0m\u001B[0mdeepcopy\u001B[0m\u001B[0;34m(\u001B[0m\u001B[0mself\u001B[0m\u001B[0;34m.\u001B[0m\u001B[0mmodel\u001B[0m\u001B[0;34m.\u001B[0m\u001B[0mstate_dict\u001B[0m\u001B[0;34m(\u001B[0m\u001B[0;34m)\u001B[0m\u001B[0;34m)\u001B[0m\u001B[0;34m\u001B[0m\u001B[0;34m\u001B[0m\u001B[0m\n",
      "\u001B[0;32m~/PycharmProjects/MultiView/CCA_methods/DVCCA.py\u001B[0m in \u001B[0;36m__init__\u001B[0;34m(self, input_size_1, input_size_2, hidden_layer_sizes_1, hidden_layer_sizes_2, outdim_size, mu, both_encoders, private)\u001B[0m\n\u001B[1;32m     35\u001B[0m         \u001B[0mself\u001B[0m\u001B[0;34m.\u001B[0m\u001B[0mmu\u001B[0m \u001B[0;34m=\u001B[0m \u001B[0mmu\u001B[0m\u001B[0;34m\u001B[0m\u001B[0;34m\u001B[0m\u001B[0m\n\u001B[1;32m     36\u001B[0m \u001B[0;34m\u001B[0m\u001B[0m\n\u001B[0;32m---> 37\u001B[0;31m         \u001B[0mself\u001B[0m\u001B[0;34m.\u001B[0m\u001B[0mencoder_1\u001B[0m \u001B[0;34m=\u001B[0m \u001B[0mEncoder\u001B[0m\u001B[0;34m(\u001B[0m\u001B[0mhidden_layer_sizes_1\u001B[0m\u001B[0;34m,\u001B[0m \u001B[0minput_size_1\u001B[0m\u001B[0;34m,\u001B[0m \u001B[0moutdim_size\u001B[0m\u001B[0;34m)\u001B[0m\u001B[0;34m.\u001B[0m\u001B[0mdouble\u001B[0m\u001B[0;34m(\u001B[0m\u001B[0;34m)\u001B[0m\u001B[0;34m\u001B[0m\u001B[0;34m\u001B[0m\u001B[0m\n\u001B[0m\u001B[1;32m     38\u001B[0m         \u001B[0;32mif\u001B[0m \u001B[0mself\u001B[0m\u001B[0;34m.\u001B[0m\u001B[0mboth_encoders\u001B[0m\u001B[0;34m:\u001B[0m\u001B[0;34m\u001B[0m\u001B[0;34m\u001B[0m\u001B[0m\n\u001B[1;32m     39\u001B[0m             \u001B[0mself\u001B[0m\u001B[0;34m.\u001B[0m\u001B[0mencoder_2\u001B[0m \u001B[0;34m=\u001B[0m \u001B[0mEncoder\u001B[0m\u001B[0;34m(\u001B[0m\u001B[0mhidden_layer_sizes_2\u001B[0m\u001B[0;34m,\u001B[0m \u001B[0minput_size_2\u001B[0m\u001B[0;34m,\u001B[0m \u001B[0moutdim_size\u001B[0m\u001B[0;34m)\u001B[0m\u001B[0;34m.\u001B[0m\u001B[0mdouble\u001B[0m\u001B[0;34m(\u001B[0m\u001B[0;34m)\u001B[0m\u001B[0;34m\u001B[0m\u001B[0;34m\u001B[0m\u001B[0m\n",
      "\u001B[0;32m~/PycharmProjects/MultiView/CCA_methods/deep_models.py\u001B[0m in \u001B[0;36m__init__\u001B[0;34m(self, layer_sizes, input_size, output_size)\u001B[0m\n\u001B[1;32m     17\u001B[0m         \u001B[0msuper\u001B[0m\u001B[0;34m(\u001B[0m\u001B[0mEncoder\u001B[0m\u001B[0;34m,\u001B[0m \u001B[0mself\u001B[0m\u001B[0;34m)\u001B[0m\u001B[0;34m.\u001B[0m\u001B[0m__init__\u001B[0m\u001B[0;34m(\u001B[0m\u001B[0;34m)\u001B[0m\u001B[0;34m\u001B[0m\u001B[0;34m\u001B[0m\u001B[0m\n\u001B[1;32m     18\u001B[0m         \u001B[0mlayers\u001B[0m \u001B[0;34m=\u001B[0m \u001B[0;34m[\u001B[0m\u001B[0;34m]\u001B[0m\u001B[0;34m\u001B[0m\u001B[0;34m\u001B[0m\u001B[0m\n\u001B[0;32m---> 19\u001B[0;31m         \u001B[0mlayer_sizes\u001B[0m \u001B[0;34m=\u001B[0m \u001B[0;34m[\u001B[0m\u001B[0minput_size\u001B[0m\u001B[0;34m]\u001B[0m \u001B[0;34m+\u001B[0m \u001B[0mlayer_sizes\u001B[0m \u001B[0;34m+\u001B[0m \u001B[0;34m[\u001B[0m\u001B[0moutput_size\u001B[0m\u001B[0;34m]\u001B[0m\u001B[0;34m\u001B[0m\u001B[0;34m\u001B[0m\u001B[0m\n\u001B[0m\u001B[1;32m     20\u001B[0m         \u001B[0;32mfor\u001B[0m \u001B[0ml_id\u001B[0m \u001B[0;32min\u001B[0m \u001B[0mrange\u001B[0m\u001B[0;34m(\u001B[0m\u001B[0mlen\u001B[0m\u001B[0;34m(\u001B[0m\u001B[0mlayer_sizes\u001B[0m\u001B[0;34m)\u001B[0m \u001B[0;34m-\u001B[0m \u001B[0;36m1\u001B[0m\u001B[0;34m)\u001B[0m\u001B[0;34m:\u001B[0m\u001B[0;34m\u001B[0m\u001B[0;34m\u001B[0m\u001B[0m\n\u001B[1;32m     21\u001B[0m             \u001B[0;32mif\u001B[0m \u001B[0ml_id\u001B[0m \u001B[0;34m==\u001B[0m \u001B[0mlen\u001B[0m\u001B[0;34m(\u001B[0m\u001B[0mlayer_sizes\u001B[0m\u001B[0;34m)\u001B[0m \u001B[0;34m-\u001B[0m \u001B[0;36m2\u001B[0m\u001B[0;34m:\u001B[0m\u001B[0;34m\u001B[0m\u001B[0;34m\u001B[0m\u001B[0m\n",
      "\u001B[0;31mTypeError\u001B[0m: can only concatenate list (not \"NoneType\") to list"
     ]
    }
   ],
   "source": [
    "dvcca = CCA_methods.deep.Wrapper(outdim_size=outdim_size, epoch_num=epoch_num, method='DVCCA',private=False)\n",
    "\n",
    "dvcca.fit(train_set_1, train_set_2)\n",
    "\n",
    "dvcca_results = np.stack((dvcca.train_correlations, dvcca.predict_corr(test_set_1, test_set_2)))\n",
    "\n",
    "\n",
    "dvcca_p = CCA_methods.deep.Wrapper(outdim_size=outdim_size, epoch_num=epoch_num, method='DCCAE',private=True)\n",
    "\n",
    "dvcca_p.fit(train_set_1, train_set_2)\n",
    "\n",
    "dvcca_p_results = np.stack((dvcca_p.train_correlations, dvcca_p.predict_corr(test_set_1, test_set_2)))\n"
   ],
   "metadata": {
    "collapsed": false,
    "pycharm": {
     "name": "#%%\n"
    }
   }
  },
  {
   "cell_type": "markdown",
   "source": [
    "### Make results plot to compare methods"
   ],
   "metadata": {
    "collapsed": false
   }
  },
  {
   "cell_type": "code",
   "execution_count": 16,
   "outputs": [
    {
     "name": "stderr",
     "output_type": "stream",
     "text": [
      "/Users/jameschapman/.conda/envs/inverseproblem/lib/python3.7/site-packages/ipykernel_launcher.py:13: UserWarning: Matplotlib is currently using agg, which is a non-GUI backend, so cannot show the figure.\n",
      "  del sys.path[0]\n"
     ]
    }
   ],
   "source": [
    "all_labels = ['ALS', 'L2 - ALS', 'Witten', 'Parkhomenko', 'Waaijenborg - Elastic ALS',\n",
    "              'scikit', 'DCCA']\n",
    "\n",
    "\n",
    "all_results = np.stack(\n",
    "    [linear_cca_results,pmd_results,elastic_results,kernel_reg_results,kernel_poly_results,\n",
    "     kernel_gaussian_results,dcca_results,dgcca_results],\n",
    "    axis=0)\n",
    "all_labels = ['linear','pmd','elastic','linear kernel','polynomial kernel',\n",
    "              'gaussian kernel', 'deep CCA', 'deep generalized CCA']\n",
    "\n",
    "CCA_methods.plot_utils.plot_results(all_results, all_labels)\n",
    "plt.show()"
   ],
   "metadata": {
    "collapsed": false,
    "pycharm": {
     "name": "#%%\n"
    }
   }
  }
 ],
 "metadata": {
  "kernelspec": {
   "display_name": "Python 3",
   "language": "python",
   "name": "python3"
  },
  "language_info": {
   "codemirror_mode": {
    "name": "ipython",
    "version": 2
   },
   "file_extension": ".py",
   "mimetype": "text/x-python",
   "name": "python",
   "nbconvert_exporter": "python",
   "pygments_lexer": "ipython2",
   "version": "2.7.6"
  }
 },
 "nbformat": 4,
 "nbformat_minor": 0
}